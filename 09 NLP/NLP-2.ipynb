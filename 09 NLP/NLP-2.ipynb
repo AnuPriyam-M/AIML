{
 "cells": [
  {
   "cell_type": "markdown",
   "id": "a803c245",
   "metadata": {},
   "source": [
    "### PART - A\n",
    "\n",
    "DOMAIN: Digital content and entertainment industry\n",
    "    \n",
    "    \n",
    "CONTEXT: The objective of this project is to build a text classification model that analyses the customer's\n",
    "sentiments based on their reviews in the IMDB database. The model uses a complex deep learning model to build\n",
    "an embedding layer followed by a classification algorithm to analyse the sentiment of the customers.\n",
    "\n",
    "\n",
    "DATA DESCRIPTION: The Dataset of 50,000 movie reviews from IMDB, labelled by sentiment (positive/negative).\n",
    "Reviews have been preprocessed, and each review is encoded as a sequence of word indexes (integers). For\n",
    "convenience, the words are indexed by their frequency in the dataset, meaning the for that has index 1 is the most\n",
    "frequent word. Use the first 20 words from each review to speed up training, using a max vocabulary size of\n",
    "10,000. As a convention, \"0\" does not stand for a specific word, but instead is used to encode any unknown word.\n",
    "\n",
    "\n",
    "PROJECT OBJECTIVE: To Build a sequential NLP classifier which can use input text parameters to determine the\n",
    "customer sentiments."
   ]
  },
  {
   "cell_type": "markdown",
   "id": "710c4e8d",
   "metadata": {},
   "source": [
    "## Steps and tasks: [ Total Score: 30 Marks]\n",
    "\n",
    "### 1. Import and analyse the data set. [5 Marks]\n",
    "Hint: - Use `imdb.load_data()` method\n",
    " - Get train and test set\n",
    " - Take 10000 most frequent words\n"
   ]
  },
  {
   "cell_type": "code",
   "execution_count": 1,
   "id": "6e3f2f94",
   "metadata": {},
   "outputs": [],
   "source": [
    "# Import packages\n",
    "import pandas as pd, numpy as np\n",
    "import tensorflow as tf\n",
    "assert tf.__version__ >= '2.0'\n",
    "import seaborn as sns\n",
    "from itertools import islice\n",
    "\n",
    "# Keras\n",
    "from tensorflow.keras.layers import Dense, Embedding, LSTM, Dropout, MaxPooling1D, Conv1D,Bidirectional,GlobalMaxPool1D\n",
    "from tensorflow.keras.preprocessing.sequence import pad_sequences\n",
    "from tensorflow.keras.models import Model, Sequential\n",
    "from tensorflow.keras.preprocessing import sequence\n",
    "from tensorflow.keras.datasets import imdb\n",
    "from tensorflow.keras.preprocessing.text import Tokenizer\n",
    "from tensorflow.keras.initializers import Constant\n",
    "from tensorflow.keras.callbacks import ModelCheckpoint, EarlyStopping,ReduceLROnPlateau,TensorBoard\n",
    "\n",
    "from sklearn.model_selection import train_test_split\n",
    "from sklearn.metrics import classification_report,confusion_matrix\n",
    "\n",
    "# Suppress warnings\n",
    "import warnings; warnings.filterwarnings('ignore')\n",
    "import matplotlib.pyplot as plt\n",
    "random_state = 42\n",
    "np.random.seed(random_state)\n",
    "tf.random.set_seed(random_state)"
   ]
  },
  {
   "cell_type": "code",
   "execution_count": 2,
   "id": "dd7c71d0",
   "metadata": {},
   "outputs": [],
   "source": [
    "vocab_size = 10000\n",
    "maxlen = 300\n",
    "(x_train, y_train), (x_test, y_test) = imdb.load_data(num_words = vocab_size)"
   ]
  },
  {
   "cell_type": "code",
   "execution_count": 3,
   "id": "b026b626",
   "metadata": {},
   "outputs": [
    {
     "name": "stdout",
     "output_type": "stream",
     "text": [
      "Distributon of positive and negative sentiment\n",
      "------------------------------------------------------------\n",
      "In Training data,\n",
      "Negative sentiments are 12500 and\n",
      "Positive sentiments are 12500\n"
     ]
    },
    {
     "data": {
      "image/png": "[encoded data removed]",
      "text/plain": [
       "<Figure size 432x288 with 1 Axes>"
      ]
     },
     "metadata": {},
     "output_type": "display_data"
    }
   ],
   "source": [
    " print('Distributon of positive and negative sentiment'); print('--'*30)\n",
    "ar_unique, i = np.unique(y_train, return_counts=True)\n",
    "print(\"In Training data,\\nNegative sentiments are\",i[0],\"and\\nPositive sentiments are\",i[1])\n",
    "plt.title('Train data label distribution')\n",
    "_ =plt.pie(i, autopct = '%.0f%%', labels = ['Negative','positive'])\n",
    "\n",
    "\n"
   ]
  },
  {
   "cell_type": "code",
   "execution_count": 4,
   "id": "97c8bceb",
   "metadata": {},
   "outputs": [
    {
     "name": "stdout",
     "output_type": "stream",
     "text": [
      "In Training data,\n",
      "Negative sentiments are 12500 and\n",
      "positive sentiments are 12500\n"
     ]
    },
    {
     "data": {
      "image/png": "[encoded data removed]",
      "text/plain": [
       "<Figure size 432x288 with 1 Axes>"
      ]
     },
     "metadata": {},
     "output_type": "display_data"
    }
   ],
   "source": [
    "ar_unique, i = np.unique(y_test, return_counts=True)\n",
    "print(\"In Training data,\\nNegative sentiments are\",i[0],\"and\\npositive sentiments are\",i[1])\n",
    "plt.title('Test data label distribution')\n",
    "_ =plt.pie(i, autopct = '%.0f%%', labels = [ 'Negative','positive'])"
   ]
  },
  {
   "cell_type": "markdown",
   "id": "d4a1ec53",
   "metadata": {},
   "source": []
  },
  {
   "cell_type": "markdown",
   "id": "1844d587",
   "metadata": {},
   "source": [
    "### 2. Perform relevant sequence adding on the data. [5 Marks]\n"
   ]
  },
  {
   "cell_type": "code",
   "execution_count": 5,
   "id": "8b5418be",
   "metadata": {},
   "outputs": [],
   "source": [
    "x_train = pad_sequences(x_train, maxlen = maxlen, padding = 'pre')\n",
    "x_test =  pad_sequences(x_test, maxlen = maxlen, padding = 'pre')\n",
    "\n",
    "X = np.concatenate((x_train, x_test), axis = 0)\n",
    "y = np.concatenate((y_train, y_test), axis = 0)\n",
    "\n",
    "x_train, x_test, y_train, y_test = train_test_split(X, y, test_size = 0.2, random_state = random_state, shuffle = True)\n",
    "x_train, x_valid, y_train, y_valid = train_test_split(x_train, y_train, test_size = 0.2, random_state = random_state, shuffle = True)"
   ]
  },
  {
   "cell_type": "markdown",
   "id": "2d140eeb",
   "metadata": {},
   "source": [
    "### 3. Perform following data analysis: [5 Marks]\n",
    "• Print shape of features and labels\n",
    "• Print value of any one feature and it's label\n"
   ]
  },
  {
   "cell_type": "code",
   "execution_count": 6,
   "id": "3fb7dc1a",
   "metadata": {},
   "outputs": [
    {
     "name": "stdout",
     "output_type": "stream",
     "text": [
      "------------------------------------------------------------ \n",
      "Number of rows in training dataset: 32000\n",
      "Number of columns in training dataset: 300\n",
      "Number of unique words in training dataset: 9999\n",
      "------------------------------------------------------------ \n",
      "Number of rows in validation dataset: 8000\n",
      "Number of columns in validation dataset: 300\n",
      "Number of unique words in validation dataset: 9984\n",
      "------------------------------------------------------------ \n",
      "Number of rows in test dataset: 10000\n",
      "Number of columns in test dataset: 300\n",
      "Number of unique words in test dataset: 9995\n",
      "------------------------------------------------------------ \n",
      "Unique Categories: (array([0, 1], dtype=int64), array([0, 1], dtype=int64), array([0, 1], dtype=int64))\n"
     ]
    }
   ],
   "source": [
    "print('---'*20, f'\\nNumber of rows in training dataset: {x_train.shape[0]}')\n",
    "print(f'Number of columns in training dataset: {x_train.shape[1]}')\n",
    "print(f'Number of unique words in training dataset: {len(np.unique(np.hstack(x_train)))}')\n",
    "\n",
    "\n",
    "print('---'*20, f'\\nNumber of rows in validation dataset: {x_valid.shape[0]}')\n",
    "print(f'Number of columns in validation dataset: {x_valid.shape[1]}')\n",
    "print(f'Number of unique words in validation dataset: {len(np.unique(np.hstack(x_valid)))}')\n",
    "\n",
    "\n",
    "print('---'*20, f'\\nNumber of rows in test dataset: {x_test.shape[0]}')\n",
    "print(f'Number of columns in test dataset: {x_test.shape[1]}')\n",
    "print(f'Number of unique words in test dataset: {len(np.unique(np.hstack(x_test)))}')\n",
    "\n",
    "\n",
    "print('---'*20, f'\\nUnique Categories: {np.unique(y_train), np.unique(y_valid), np.unique(y_test)}')"
   ]
  },
  {
   "cell_type": "code",
   "execution_count": 7,
   "id": "127a12f5",
   "metadata": {},
   "outputs": [
    {
     "name": "stdout",
     "output_type": "stream",
     "text": [
      "Feature value X: [   0    0    0    0    0    0    0    0    0    0    0    0    0    0\n",
      "    0    0    0    0    0    0    0    0    0    0    0    0    0    0\n",
      "    0    0    0    0    0    0    0    0    0    0    0    0    0    0\n",
      "    0    0    0    0    0    0    0    0    0    0    0    0    0    0\n",
      "    0    0    0    0    0    0    0    0    0    0    0    0    0    0\n",
      "    0    1    4   64  614   96    8  358   14  509    9    8 4040  129\n",
      "  419  429    4 1513 1741   49 6177    2    7    4 1224  387    6  762\n",
      "    7  129 1224 7851  783    5  280   25   26 8394 2985 3000  382   95\n",
      "   25  238  358   14   22   10   10    4   64 1907 1698   16    4   65\n",
      "  200    2    5 6958 7767   16  321   11    4  217    7    4 7212 2658\n",
      "    5   38   16    4 8145  250  382   48   36   62   28 1075    4  226\n",
      "   20   23   68    2   11 2853    5   89   36  853  809   11  119   62\n",
      "   28   93   12    6   76   53  737   22   10   10    4   64  282   13\n",
      "  520   12    6  342  675    9   88    7    2    5   27 1256   17   35\n",
      "  284   54   12  266    8  212   10   10    2    2    5 6301 4029   71\n",
      " 1053 9056  935    4  136   33    2    7    4  796 3617   16   43   99\n",
      "   76    8    2  112   35 1966    2   11    4 1208  790 1502  182 6301\n",
      " 4029   62   28  188  309  324   76  159   29   60 3820    4 1749 3026\n",
      "    8    2   27  283  119   21   95  174    4  213    7    4   20   16\n",
      "    8 8861 2091 8730 5681    5 1402   35 8585   23    4  393    7    4\n",
      "  831  311   10   10  106   12   33  129  205 7623   33  222   13  124\n",
      "   13   28   77    2   18  113]\n",
      "______________________________________________________________________\n",
      "label y : 0\n"
     ]
    }
   ],
   "source": [
    "print(\"Feature value X:\", x_train[0])\n",
    "print(\"_\"*70)\n",
    "print(\"label y :\", y_train[0])\n"
   ]
  },
  {
   "cell_type": "code",
   "execution_count": 8,
   "id": "32977a2a",
   "metadata": {},
   "outputs": [
    {
     "name": "stdout",
     "output_type": "stream",
     "text": [
      "word index of Fawn is  34701\n"
     ]
    }
   ],
   "source": [
    "w2i = imdb.get_word_index()   \n",
    "print('word index of Fawn is ',w2i['fawn'])"
   ]
  },
  {
   "cell_type": "markdown",
   "id": "e5b4269c",
   "metadata": {},
   "source": [
    "### 4. Decode the feature value to get original sentence [5 Marks]\n"
   ]
  },
  {
   "cell_type": "code",
   "execution_count": 9,
   "id": "deabd3fe",
   "metadata": {},
   "outputs": [
    {
     "name": "stdout",
     "output_type": "stream",
     "text": [
      "Review:                                                                         the only possible way to enjoy this flick is to bang your head against the wall allow some internal  of the brain let a bunch of your brain cells die and once you are officially mentally retarded perhaps then you might enjoy this film br br the only saving grace was the story between  and stephanie govinda was excellent in the role of the cab driver and so was the brit girl perhaps if they would have created the whole movie on their  in india and how they eventually fall in love would have made it a much more enjoyable film br br the only reason i gave it a 3 rating is because of  and his ability as an actor when it comes to comedy br br   and anil kapoor were wasted needlessly plus the scene at  of the re union was just too much to  being an international  in the post 9 11 world anil kapoor would have got himself shot much before he even reached the sky bridge to  his true love but then again the point of the movie was to defy logic gravity physics and throw an egg on the face of the general audience br br watch it at your own peril at least i know i have been  for life\n",
      "Actual Sentiment: 0\n",
      "------------------------------------------------------------------------------------------ \n",
      " [(34704, 'fawn'), (52009, 'tsukino'), (52010, 'nunnery'), (16819, 'sonja'), (63954, 'vani'), (1411, 'woods'), (16118, 'spiders'), (2348, 'hanging'), (2292, 'woody'), (52011, 'trawling'), (52012, \"hold's\"), (11310, 'comically'), (40833, 'localized'), (30571, 'disobeying'), (52013, \"'royale\"), (40834, \"harpo's\"), (52014, 'canet'), (19316, 'aileen'), (52015, 'acurately'), (52016, \"diplomat's\"), (25245, 'rickman'), (6749, 'arranged'), (52017, 'rumbustious'), (52018, 'familiarness'), (52019, \"spider'\"), (68807, 'hahahah'), (52020, \"wood'\"), (40836, 'transvestism'), (34705, \"hangin'\"), (2341, 'bringing'), (40837, 'seamier'), (34706, 'wooded'), (52021, 'bravora'), (16820, 'grueling'), (1639, 'wooden'), (16821, 'wednesday'), (52022, \"'prix\"), (34707, 'altagracia'), (52023, 'circuitry'), (11588, 'crotch'), (57769, 'busybody'), (52024, \"tart'n'tangy\"), (14132, 'burgade'), (52026, 'thrace'), (11041, \"tom's\"), (52028, 'snuggles'), (29117, 'francesco'), (52030, 'complainers'), (52128, 'templarios'), (40838, '272')]\n"
     ]
    }
   ],
   "source": [
    "def decode_review(x, y):\n",
    "    w2i = imdb.get_word_index()                                \n",
    "    w2i = {k:(v + 3) for k, v in w2i.items()}\n",
    "    i2w = {i: w for w, i in w2i.items()}\n",
    "    i2w[0]= \"\"\n",
    "    i2w[1]= \"\"\n",
    "    i2w[2]= \"\"\n",
    "    #print(i2w[34701])\n",
    "    ws = (' '.join(i2w[i] for i in x))\n",
    "    print(f'Review: {ws}')\n",
    "    print(f'Actual Sentiment: {y}')\n",
    "    return w2i, i2w\n",
    "\n",
    "w2i, i2w = decode_review(x_train[0], y_train[0])\n",
    "\n",
    "# get first 50 key, value pairs from id to word dictionary\n",
    "print('---'*30, '\\n', list(islice(i2w.items(), 0, 50)))"
   ]
  },
  {
   "cell_type": "markdown",
   "id": "d420021d",
   "metadata": {},
   "source": [
    "### 5. Design, train, tune and test a sequential model. [5 Marks]\n"
   ]
  },
  {
   "cell_type": "code",
   "execution_count": 10,
   "id": "d76f296c",
   "metadata": {},
   "outputs": [
    {
     "name": "stdout",
     "output_type": "stream",
     "text": [
      "Model: \"sequential\"\n",
      "_________________________________________________________________\n",
      "Layer (type)                 Output Shape              Param #   \n",
      "=================================================================\n",
      "embedding (Embedding)        (None, 300, 256)          2560000   \n",
      "_________________________________________________________________\n",
      "dropout (Dropout)            (None, 300, 256)          0         \n",
      "_________________________________________________________________\n",
      "conv1d (Conv1D)              (None, 300, 256)          327936    \n",
      "_________________________________________________________________\n",
      "conv1d_1 (Conv1D)            (None, 300, 128)          163968    \n",
      "_________________________________________________________________\n",
      "max_pooling1d (MaxPooling1D) (None, 150, 128)          0         \n",
      "_________________________________________________________________\n",
      "conv1d_2 (Conv1D)            (None, 150, 64)           41024     \n",
      "_________________________________________________________________\n",
      "max_pooling1d_1 (MaxPooling1 (None, 75, 64)            0         \n",
      "_________________________________________________________________\n",
      "lstm (LSTM)                  (None, 75)                42000     \n",
      "_________________________________________________________________\n",
      "dense (Dense)                (None, 1)                 76        \n",
      "=================================================================\n",
      "Total params: 3,135,004\n",
      "Trainable params: 3,135,004\n",
      "Non-trainable params: 0\n",
      "_________________________________________________________________\n",
      "None\n"
     ]
    }
   ],
   "source": [
    "model = Sequential()\n",
    "model.add(Embedding(vocab_size, 256, input_length = maxlen))\n",
    "model.add(Dropout(0.25))\n",
    "model.add(Conv1D(256, 5, padding = 'same', activation = 'relu', strides = 1))\n",
    "model.add(Conv1D(128, 5, padding = 'same', activation = 'relu', strides = 1))\n",
    "model.add(MaxPooling1D(pool_size = 2))\n",
    "model.add(Conv1D(64, 5, padding = 'same', activation = 'relu', strides = 1))\n",
    "model.add(MaxPooling1D(pool_size = 2))\n",
    "model.add(LSTM(75))\n",
    "model.add(Dense(1, activation = 'sigmoid'))\n",
    "model.compile(loss = 'binary_crossentropy', optimizer = 'adam', metrics = ['accuracy'])\n",
    "print(model.summary())\n",
    "\n",
    "# Adding callbacks\n",
    "es = EarlyStopping(monitor = 'val_loss', mode = 'min', verbose = 1, patience = 0)  \n",
    "mc = ModelCheckpoint('imdb_model.h5', monitor = 'val_loss', mode = 'min', save_best_only = True, verbose = 1)"
   ]
  },
  {
   "cell_type": "code",
   "execution_count": 11,
   "id": "1f8bb14e",
   "metadata": {},
   "outputs": [
    {
     "name": "stdout",
     "output_type": "stream",
     "text": [
      "Epoch 1/10\n",
      "500/500 [==============================] - ETA: 0s - loss: 0.3411 - accuracy: 0.8391\n",
      "Epoch 00001: val_loss improved from inf to 0.25066, saving model to imdb_model.h5\n",
      "500/500 [==============================] - 566s 1s/step - loss: 0.3411 - accuracy: 0.8391 - val_loss: 0.2507 - val_accuracy: 0.8965\n",
      "Epoch 2/10\n",
      "500/500 [==============================] - ETA: 0s - loss: 0.1832 - accuracy: 0.9311\n",
      "Epoch 00002: val_loss did not improve from 0.25066\n",
      "500/500 [==============================] - 487s 974ms/step - loss: 0.1832 - accuracy: 0.9311 - val_loss: 0.2574 - val_accuracy: 0.8926\n",
      "Epoch 00002: early stopping\n",
      "157/157 [==============================] - 27s 173ms/step - loss: 0.2539 - accuracy: 0.8963\n",
      "Test accuracy: 89.63%\n"
     ]
    }
   ],
   "source": [
    "# Fit the model\n",
    "history= model.fit(x_train, y_train, validation_data = (x_valid, y_valid), epochs = 10, batch_size = 64, verbose = True, callbacks = [es, mc])\n",
    "\n",
    "# Evaluate the model\n",
    "scores = model.evaluate(x_test, y_test, batch_size = 64)\n",
    "print('Test accuracy: %.2f%%' % (scores[1]*100))"
   ]
  },
  {
   "cell_type": "code",
   "execution_count": 12,
   "id": "b34f70ae",
   "metadata": {},
   "outputs": [
    {
     "name": "stdout",
     "output_type": "stream",
     "text": [
      "WARNING:tensorflow:From C:\\Users\\AN953317\\AppData\\Local\\Temp\\ipykernel_7592\\3231259515.py:1: Sequential.predict_classes (from tensorflow.python.keras.engine.sequential) is deprecated and will be removed after 2021-01-01.\n",
      "Instructions for updating:\n",
      "Please use instead:* `np.argmax(model.predict(x), axis=-1)`,   if your model does multi-class classification   (e.g. if it uses a `softmax` last-layer activation).* `(model.predict(x) > 0.5).astype(\"int32\")`,   if your model does binary classification   (e.g. if it uses a `sigmoid` last-layer activation).\n",
      "Classification Report:\n",
      "              precision    recall  f1-score   support\n",
      "\n",
      "           0       0.94      0.86      0.90      5333\n",
      "           1       0.86      0.93      0.89      4667\n",
      "\n",
      "    accuracy                           0.90     10000\n",
      "   macro avg       0.90      0.90      0.90     10000\n",
      "weighted avg       0.90      0.90      0.90     10000\n",
      "\n"
     ]
    }
   ],
   "source": [
    "y_pred = model.predict_classes(x_test)\n",
    "print(f'Classification Report:\\n{classification_report(y_pred, y_test)}')"
   ]
  },
  {
   "cell_type": "code",
   "execution_count": 13,
   "id": "5724086b",
   "metadata": {},
   "outputs": [
    {
     "data": {
      "image/png": "[encoded data removed]",
      "text/plain": [
       "<Figure size 432x288 with 1 Axes>"
      ]
     },
     "metadata": {
      "needs_background": "light"
     },
     "output_type": "display_data"
    }
   ],
   "source": [
    "loss_train = history.history['loss']\n",
    "loss_val = history.history['val_loss']\n",
    "epochs = range(1,3)\n",
    "plt.plot(epochs, loss_train, 'g', label='Training loss')\n",
    "plt.plot(epochs, loss_val, 'b', label='validation loss')\n",
    "plt.title('Training and Validation loss')\n",
    "plt.xlabel('Epochs')\n",
    "plt.ylabel('Loss')\n",
    "plt.legend()\n",
    "plt.show()"
   ]
  },
  {
   "cell_type": "code",
   "execution_count": 14,
   "id": "467948b3",
   "metadata": {},
   "outputs": [
    {
     "data": {
      "image/png": "[encoded data removed]",
      "text/plain": [
       "<Figure size 432x288 with 1 Axes>"
      ]
     },
     "metadata": {
      "needs_background": "light"
     },
     "output_type": "display_data"
    }
   ],
   "source": [
    "accuracy_train = history.history['accuracy']\n",
    "accuracy_val = history.history['val_accuracy']\n",
    "epochs = range(1,3)\n",
    "plt.plot(epochs, accuracy_train, 'g', label='Training accuracy')\n",
    "plt.plot(epochs, accuracy_val, 'b', label='validation accuracy')\n",
    "plt.title('Training and Validation accuracy')\n",
    "plt.xlabel('Epochs')\n",
    "plt.ylabel('accuracy')\n",
    "plt.legend()\n",
    "plt.show()"
   ]
  },
  {
   "cell_type": "markdown",
   "id": "f9a0b7ea",
   "metadata": {},
   "source": [
    "### 6. Use the designed model to print the prediction on any one sample. [5 Marks]"
   ]
  },
  {
   "cell_type": "code",
   "execution_count": 15,
   "id": "45da7ed1",
   "metadata": {},
   "outputs": [
    {
     "name": "stdout",
     "output_type": "stream",
     "text": [
      "Review:                                                                                                                                                                               i wasn't alive in the 60's so i can't guarantee that this movie was a completely accurate representation of the period but it is certainly a moving and fulfilling experience there are some excellent performances most notably by josh hamilton of with  jerry   who play brothers divided by the war bill  a character actor who has been long ignored by many gives a heart filled performance as their strict father who is forced to question his own beliefs and values as one of his sons makes him proud by going to vietnam but returns empty inside while the other is exactly the opposite all in all this is a powerful and heartwarming film that i hope everyone gets a chance to experience\n",
      "Actual Sentiment: 1\n",
      "Predicted sentiment: 1\n"
     ]
    }
   ],
   "source": [
    "sample =1000\n",
    "decode_review(x_test[sample], y_test[sample])\n",
    "print(f'Predicted sentiment: {y_pred[sample][0]}')"
   ]
  },
  {
   "cell_type": "code",
   "execution_count": 16,
   "id": "72ffa22c",
   "metadata": {},
   "outputs": [
    {
     "name": "stdout",
     "output_type": "stream",
     "text": [
      "Review:                                                                        overall this movie is dreadful and should have never been made one of the problems with this movie is that there is no link to the audience and the characters for example if she is about to be attacked you want to feel oh my god no but you don't in this case you don't care because there is no link that has been made to know the character in the trailer it seemed as though the movie would be great yet there is no suspense what so ever really there could have been maybe some mystery but there is not all she has is a  was said on the dvd's back you would think that it was carefully planned this movie and cleverly made but it is not the ending was just awful very straight forward and pointless too the acting is either average or below average maybe even lower in my opinion it was a waste of an hour of my life the special effects and sets were average too nothing special what so ever there is not much gore or bloody violence not much blood is shown this movie was advertised to make it sound quite amazing yet really its not even worth looking for i do not recommend this to anyone unless they are easily satisfied by a few fights and a boring story\n",
      "Actual Sentiment: 0\n",
      "Predicted sentiment: 0\n"
     ]
    }
   ],
   "source": [
    "sample =1\n",
    "decode_review(x_test[sample], y_test[sample])\n",
    "print(f'Predicted sentiment: {y_pred[sample][0]}')"
   ]
  },
  {
   "cell_type": "markdown",
   "id": "52919e03",
   "metadata": {},
   "source": [
    "### PART - B\n",
    "\n",
    "\n",
    "### DOMAIN: Social media analytics\n",
    "    \n",
    "    \n",
    "• CONTEXT: Past studies in Sarcasm Detection mostly make use of Twitter datasets collected using hashtag based\n",
    "supervision but such datasets are noisy in terms of labels and language. Furthermore, many tweets are replies to\n",
    "other tweets and detecting sarcasm in these requires the availability of contextual tweets.In this hands-on project,\n",
    "the goal is to build a model to detect whether a sentence is sarcastic or not, using Bidirectional LSTMs.\n",
    "\n",
    "• DATA DESCRIPTION:\n",
    "The dataset is collected from two news websites, theonion.com and huffingtonpost.com.\n",
    "This new dataset has the following advantages over the existing Twitter datasets:\n",
    "Since news headlines are written by professionals in a formal manner, there are no spelling mistakes and informal usage. This\n",
    "reduces the sparsity and also increases the chance of finding pre-trained embeddings.\n",
    "Furthermore, since the sole purpose of TheOnion is to publish sarcastic news, we get high-quality labels with much less noise as\n",
    "compared to Twitter datasets.\n",
    "Unlike tweets that reply to other tweets, the news headlines obtained are self-contained. This would help us in teasing apart the\n",
    "real sarcastic elements\n",
    "Content: Each record consists of three attributes:\n",
    "is_sarcastic: 1 if the record is sarcastic otherwise 0\n",
    "headline: the headline of the news article\n",
    "article_link: link to the original news article. Useful in collecting supplementary data\n",
    " \n",
    "Reference: https://github.com/rishabhmisra/News-Headlines-Dataset-For-Sarcasm-Detection\n",
    "        \n",
    "        \n",
    "PROJECT OBJECTIVE: Build a sequential NLP classifier which can use input text parameters to determine the\n",
    "customer sentiments."
   ]
  },
  {
   "cell_type": "markdown",
   "id": "5238915b",
   "metadata": {},
   "source": []
  },
  {
   "cell_type": "markdown",
   "id": "b90b9646",
   "metadata": {},
   "source": [
    "## Steps and tasks: [ Total Score: 30 Marks]\n",
    "### 1. Read and explore the data [3 Marks]\n"
   ]
  },
  {
   "cell_type": "code",
   "execution_count": 17,
   "id": "ac4f36be",
   "metadata": {},
   "outputs": [
    {
     "name": "stdout",
     "output_type": "stream",
     "text": [
      "(26709, 3)\n"
     ]
    },
    {
     "data": {
      "text/html": [
       "<div>\n",
       "<style scoped>\n",
       "    .dataframe tbody tr th:only-of-type {\n",
       "        vertical-align: middle;\n",
       "    }\n",
       "\n",
       "    .dataframe tbody tr th {\n",
       "        vertical-align: top;\n",
       "    }\n",
       "\n",
       "    .dataframe thead th {\n",
       "        text-align: right;\n",
       "    }\n",
       "</style>\n",
       "<table border=\"1\" class=\"dataframe\">\n",
       "  <thead>\n",
       "    <tr style=\"text-align: right;\">\n",
       "      <th></th>\n",
       "      <th>article_link</th>\n",
       "      <th>headline</th>\n",
       "      <th>is_sarcastic</th>\n",
       "    </tr>\n",
       "  </thead>\n",
       "  <tbody>\n",
       "    <tr>\n",
       "      <th>0</th>\n",
       "      <td>https://www.huffingtonpost.com/entry/versace-b...</td>\n",
       "      <td>former versace store clerk sues over secret 'b...</td>\n",
       "      <td>0</td>\n",
       "    </tr>\n",
       "    <tr>\n",
       "      <th>1</th>\n",
       "      <td>https://www.huffingtonpost.com/entry/roseanne-...</td>\n",
       "      <td>the 'roseanne' revival catches up to our thorn...</td>\n",
       "      <td>0</td>\n",
       "    </tr>\n",
       "    <tr>\n",
       "      <th>2</th>\n",
       "      <td>https://local.theonion.com/mom-starting-to-fea...</td>\n",
       "      <td>mom starting to fear son's web series closest ...</td>\n",
       "      <td>1</td>\n",
       "    </tr>\n",
       "    <tr>\n",
       "      <th>3</th>\n",
       "      <td>https://politics.theonion.com/boehner-just-wan...</td>\n",
       "      <td>boehner just wants wife to listen, not come up...</td>\n",
       "      <td>1</td>\n",
       "    </tr>\n",
       "    <tr>\n",
       "      <th>4</th>\n",
       "      <td>https://www.huffingtonpost.com/entry/jk-rowlin...</td>\n",
       "      <td>j.k. rowling wishes snape happy birthday in th...</td>\n",
       "      <td>0</td>\n",
       "    </tr>\n",
       "  </tbody>\n",
       "</table>\n",
       "</div>"
      ],
      "text/plain": [
       "                                        article_link  \\\n",
       "0  https://www.huffingtonpost.com/entry/versace-b...   \n",
       "1  https://www.huffingtonpost.com/entry/roseanne-...   \n",
       "2  https://local.theonion.com/mom-starting-to-fea...   \n",
       "3  https://politics.theonion.com/boehner-just-wan...   \n",
       "4  https://www.huffingtonpost.com/entry/jk-rowlin...   \n",
       "\n",
       "                                            headline  is_sarcastic  \n",
       "0  former versace store clerk sues over secret 'b...             0  \n",
       "1  the 'roseanne' revival catches up to our thorn...             0  \n",
       "2  mom starting to fear son's web series closest ...             1  \n",
       "3  boehner just wants wife to listen, not come up...             1  \n",
       "4  j.k. rowling wishes snape happy birthday in th...             0  "
      ]
     },
     "metadata": {},
     "output_type": "display_data"
    }
   ],
   "source": [
    "\n",
    "data = pd.read_json('Sarcasm_Headlines_Dataset.json', lines = True)\n",
    "print(data.shape)\n",
    "display(data.head())\n"
   ]
  },
  {
   "cell_type": "code",
   "execution_count": 18,
   "id": "ffee6f0a",
   "metadata": {},
   "outputs": [
    {
     "name": "stdout",
     "output_type": "stream",
     "text": [
      "Value Counts for `is_sarcastic` label\n",
      "------------------------------------------------------------\n"
     ]
    },
    {
     "data": {
      "text/plain": [
       "0    14985\n",
       "1    11724\n",
       "Name: is_sarcastic, dtype: int64"
      ]
     },
     "execution_count": 18,
     "metadata": {},
     "output_type": "execute_result"
    }
   ],
   "source": [
    "print('Value Counts for `is_sarcastic` label'); print('--'*30)\n",
    "data.is_sarcastic.value_counts()"
   ]
  },
  {
   "cell_type": "code",
   "execution_count": 19,
   "id": "9ef3baee",
   "metadata": {},
   "outputs": [
    {
     "name": "stdout",
     "output_type": "stream",
     "text": [
      "Distributon of `is_sarcastic` label\n",
      "------------------------------------------------------------\n"
     ]
    },
    {
     "data": {
      "image/png": "[encoded data removed]",
      "text/plain": [
       "<Figure size 720x432 with 1 Axes>"
      ]
     },
     "metadata": {},
     "output_type": "display_data"
    }
   ],
   "source": [
    " print('Distributon of `is_sarcastic` label'); print('--'*30)\n",
    "_ = data['is_sarcastic'].value_counts().plot(kind = 'pie', autopct = '%.0f%%', labels = ['Sarcastic', 'Non-sarcastic'], figsize = (10, 6))\n"
   ]
  },
  {
   "cell_type": "code",
   "execution_count": 20,
   "id": "da7e01b4",
   "metadata": {},
   "outputs": [
    {
     "name": "stdout",
     "output_type": "stream",
     "text": [
      "Analysis of `is_sarcastic` label by news website\n",
      "------------------------------------------------------------\n"
     ]
    },
    {
     "data": {
      "text/html": [
       "<div>\n",
       "<style scoped>\n",
       "    .dataframe tbody tr th:only-of-type {\n",
       "        vertical-align: middle;\n",
       "    }\n",
       "\n",
       "    .dataframe tbody tr th {\n",
       "        vertical-align: top;\n",
       "    }\n",
       "\n",
       "    .dataframe thead th {\n",
       "        text-align: right;\n",
       "    }\n",
       "</style>\n",
       "<table border=\"1\" class=\"dataframe\">\n",
       "  <thead>\n",
       "    <tr style=\"text-align: right;\">\n",
       "      <th></th>\n",
       "      <th>huffingtonpost</th>\n",
       "      <th>theonion</th>\n",
       "    </tr>\n",
       "  </thead>\n",
       "  <tbody>\n",
       "    <tr>\n",
       "      <th>Sarcastic</th>\n",
       "      <td>0</td>\n",
       "      <td>11724</td>\n",
       "    </tr>\n",
       "    <tr>\n",
       "      <th>Non-sarcastic</th>\n",
       "      <td>14985</td>\n",
       "      <td>1</td>\n",
       "    </tr>\n",
       "  </tbody>\n",
       "</table>\n",
       "</div>"
      ],
      "text/plain": [
       "               huffingtonpost  theonion\n",
       "Sarcastic                   0     11724\n",
       "Non-sarcastic           14985         1"
      ]
     },
     "metadata": {},
     "output_type": "display_data"
    }
   ],
   "source": [
    "print('Analysis of `is_sarcastic` label by news website'); print('--'*30)\n",
    "\n",
    "hf = data[data['article_link'].str.contains('huffingtonpost.com')].shape[0]\n",
    "op = data[data['article_link'].str.contains('theonion.com')].shape[0]\n",
    "\n",
    "is_sarcastic_hf = data.loc[(data['article_link'].str.contains('huffingtonpost.com')) & (data['is_sarcastic'] == 1)].shape[0]\n",
    "not_sarcastic_hf = data.loc[(data['article_link'].str.contains('huffingtonpost.com')) & (data['is_sarcastic'] == 0)].shape[0]\n",
    "\n",
    "is_sarcastic_op = data.loc[(data['article_link'].str.contains('theonion.com')) & (data['is_sarcastic'] == 1)].shape[0]\n",
    "not_sarcastic_op = data.loc[(data['article_link'].str.contains('theonion.com')) & (data['is_sarcastic'] == 0)].shape[0]\n",
    "\n",
    "display(pd.DataFrame([[is_sarcastic_hf, is_sarcastic_op], [not_sarcastic_hf, not_sarcastic_op]], \n",
    "                     columns = ['huffingtonpost', 'theonion'], index = ['Sarcastic', 'Non-sarcastic']))"
   ]
  },
  {
   "cell_type": "code",
   "execution_count": 21,
   "id": "335750e3",
   "metadata": {},
   "outputs": [
    {
     "name": "stdout",
     "output_type": "stream",
     "text": [
      "------------------------------------------------------------\n",
      "Checking 5 random headlines and labels from the data\n",
      "------------------------------------------------------------\n",
      "Headline: presidential primaries\n",
      "label: 0\n",
      "\n",
      "Headline: wealthiest americans ominously remind nation they could easily drop another $10 billion on election\n",
      "label: 1\n",
      "\n",
      "Headline: congressman calls trump 'an idiot' for using egypt mosque attack to promote border wall\n",
      "label: 0\n",
      "\n",
      "Headline: west bank rioting shatters 45 minutes of middle east peace\n",
      "label: 1\n",
      "\n",
      "Headline: meet the megadonor behind the lgbtq rights movement\n",
      "label: 0\n",
      "\n"
     ]
    }
   ],
   "source": [
    "# Checking 5 random headlines and labels from the data\n",
    "import random\n",
    "print('--'*30); print('Checking 5 random headlines and labels from the data'); print('--'*30)\n",
    "rands = random.sample(range(1, data.shape[0]), 5)\n",
    "headlines, labels = list(data.loc[rands, 'headline']), list(data.loc[rands, 'is_sarcastic'])\n",
    "\n",
    "_ = [print(f'Headline: {head}\\nlabel: {label}\\n') for head, label in zip(headlines, labels)]\n",
    "\n",
    "\n",
    "     "
   ]
  },
  {
   "cell_type": "markdown",
   "id": "466c361f",
   "metadata": {},
   "source": [
    "## Insights\n",
    "    44% of the data have sarcastic labels whereas 56% don't.\n",
    "\n",
    "    There are no headlines from HuffPost that are sarcastic whereas all but one from The Onion are sarcastic.\n",
    "    \n",
    "    Based on some random headlines seen above, it appears that the data is mostly lower-cased. Pre-processing such as removing punctuations and lemmatization can be used.\n",
    "    \n",
    "    There are digits in the headlines for e.g. 3 things i needed to hear when i weighed 300 pounds where removing the digits wouldn't help."
   ]
  },
  {
   "cell_type": "markdown",
   "id": "0b9aaf5a",
   "metadata": {},
   "source": [
    "### 2. Retain relevant columns [3 Marks]\n",
    "\n"
   ]
  },
  {
   "cell_type": "code",
   "execution_count": 22,
   "id": "470aadef",
   "metadata": {},
   "outputs": [
    {
     "name": "stdout",
     "output_type": "stream",
     "text": [
      "Dropping `article_link` from the data\n",
      "------------------------------------------------------------\n"
     ]
    }
   ],
   "source": [
    "print('Dropping `article_link` from the data'); print('--'*30)\n",
    "data.drop('article_link', axis = 1, inplace = True)"
   ]
  },
  {
   "cell_type": "code",
   "execution_count": 23,
   "id": "d1e47704",
   "metadata": {},
   "outputs": [],
   "source": [
    "from nltk.stem import WordNetLemmatizer\n",
    "def lem(text):\n",
    "    lemmatizer = WordNetLemmatizer()\n",
    "    new=lemmatizer.lemmatize(text)\n",
    "    return new"
   ]
  },
  {
   "cell_type": "code",
   "execution_count": 24,
   "id": "20c13536",
   "metadata": {},
   "outputs": [
    {
     "name": "stdout",
     "output_type": "stream",
     "text": [
      "------------------------------------------------------------\n",
      "Converting headlines to lower case\n",
      "Removing punctuations\n",
      "Applying Lemmatizer\n",
      "Removing multiple spaces between words\n"
     ]
    }
   ],
   "source": [
    "import re\n",
    "print('--'*30); print('Converting headlines to lower case')\n",
    "data['cleaned_headline'] = data['headline'].apply(lambda x : x.lower())\n",
    "\n",
    "print('Removing punctuations')\n",
    "data['cleaned_headline'] = data['cleaned_headline'].apply(lambda x: re.sub(r'[^\\w\\s]', '', x))\n",
    "\n",
    "print('Applying Lemmatizer')\n",
    "data['cleaned_headline'] = data['cleaned_headline'].apply(lambda x: lem(x))\n",
    "\n",
    "print('Removing multiple spaces between words')\n",
    "data['cleaned_headline'] = data['cleaned_headline'].apply(lambda x: re.sub(' +', ' ', x))"
   ]
  },
  {
   "cell_type": "markdown",
   "id": "322add8b",
   "metadata": {},
   "source": [
    "### 3. Get length of each sentence [3 Marks]\n"
   ]
  },
  {
   "cell_type": "code",
   "execution_count": 25,
   "id": "77be355a",
   "metadata": {},
   "outputs": [
    {
     "name": "stdout",
     "output_type": "stream",
     "text": [
      "--------------------------------------------------------------------------------\n",
      "Get the length of each line, find the maximum length and print the maximum length line\n",
      "Length of line ranges from 7 to 241.\n",
      "--------------------------------------------------------------------------------\n",
      "Minimum line length: 7\n",
      "Maximum line length: 237\n",
      "Line with maximum length: maya angelou poet author civil rights activist andholy cowtony awardnominated actress college professor magazine editor streetcar conductorreally streetcar conductor wowcalypso singer nightclub performer and foreign journalist dead at 86\n"
     ]
    }
   ],
   "source": [
    "print('--'*40); print('Get the length of each line, find the maximum length and print the maximum length line'); \n",
    "print('Length of line ranges from 7 to 241.'); print('--'*40)\n",
    "# Get length of each line\n",
    "data['line_length'] = data['cleaned_headline'].str.len()\n",
    "\n",
    "print('Minimum line length: {}'.format(data['line_length'].min()))\n",
    "print('Maximum line length: {}'.format(data['line_length'].max()))\n",
    "print('Line with maximum length: {}'.format(data[data['line_length'] == data['line_length'].max()]['cleaned_headline'].values[0]))"
   ]
  },
  {
   "cell_type": "code",
   "execution_count": 26,
   "id": "d440a7dd",
   "metadata": {},
   "outputs": [
    {
     "name": "stdout",
     "output_type": "stream",
     "text": [
      "--------------------------------------------------------------------------------\n",
      "Get the number of words, find the maximum number of words and print the maximum number of words\n",
      "Number of words ranges from 2 to 39.\n",
      "--------------------------------------------------------------------------------\n",
      "Minimum number of words: 2\n",
      "Maximum number of words: 39\n",
      "Line with maximum number of words: elmore leonard modern prose master noted for his terse prose style and for writing about things perfectly and succinctly with a remarkable economy of words unfortunately and sadly expired this gloomy tuesday at the age of 87 years old\n"
     ]
    }
   ],
   "source": [
    "print('--'*40); print('Get the number of words, find the maximum number of words and print the maximum number of words'); \n",
    "print('Number of words ranges from 2 to 39.'); print('--'*40)\n",
    "# Get length of each line\n",
    "data['nb_words'] = data['cleaned_headline'].apply(lambda x: len(x.split(' ')))\n",
    "\n",
    "print('Minimum number of words: {}'.format(data['nb_words'].min()))\n",
    "print('Maximum number of words: {}'.format(data['nb_words'].max()))\n",
    "print('Line with maximum number of words: {}'.format(data[data['nb_words'] == data['nb_words'].max()]['cleaned_headline'].values[0]))\n"
   ]
  },
  {
   "cell_type": "markdown",
   "id": "56992ee4",
   "metadata": {},
   "source": [
    "### 4. Define parameters [3 Marks]\n"
   ]
  },
  {
   "cell_type": "code",
   "execution_count": 27,
   "id": "f08a5100",
   "metadata": {},
   "outputs": [],
   "source": [
    "max_features = 10000\n",
    "maxlen = data['nb_words'].max()\n",
    "embedding_size = 200\n",
    "\n",
    "\n"
   ]
  },
  {
   "cell_type": "markdown",
   "id": "0666c27f",
   "metadata": {},
   "source": [
    "### 5. Get indices for words [3 Marks]\n"
   ]
  },
  {
   "cell_type": "code",
   "execution_count": 28,
   "id": "4bc84e4f",
   "metadata": {},
   "outputs": [],
   "source": [
    "tokenizer = Tokenizer(num_words = max_features)\n",
    "tokenizer.fit_on_texts(list(data['cleaned_headline']))\n",
    "tokenizer.word_index"
   ]
  },
  {
   "cell_type": "markdown",
   "id": "9071bd50",
   "metadata": {},
   "source": [
    "### 6. Create features and labels [3 Marks]\n"
   ]
  },
  {
   "cell_type": "code",
   "execution_count": 29,
   "id": "2fa92a26",
   "metadata": {},
   "outputs": [
    {
     "name": "stdout",
     "output_type": "stream",
     "text": [
      "Number of Samples: 26709\n",
      "Number of Labels: 26709\n",
      "\n",
      "First headline:\n",
      "[   0    0    0    0    0    0    0    0    0    0    0    0    0    0\n",
      "    0    0    0    0    0    0    0    0    0    0    0    0    0    0\n",
      "  293  795 3551 2241   47  359   92 2138    5 2509 8285]\n",
      "\n",
      "Label of the first headline: 0\n"
     ]
    }
   ],
   "source": [
    "X = tokenizer.texts_to_sequences(data['cleaned_headline'])\n",
    "X = pad_sequences(X, maxlen = maxlen)\n",
    "y = np.asarray(data['is_sarcastic'])\n",
    "\n",
    "print(f'Number of Samples: {len(X)}')\n",
    "print(f'Number of Labels: {len(y)}')\n",
    "print(f'\\nFirst headline:\\n{X[0]}\\n\\nLabel of the first headline: {y[0]}')"
   ]
  },
  {
   "cell_type": "markdown",
   "id": "d1078cf6",
   "metadata": {},
   "source": [
    "### 7. Get vocabulary size [3 Marks]\n"
   ]
  },
  {
   "cell_type": "code",
   "execution_count": 30,
   "id": "2dadfd52",
   "metadata": {},
   "outputs": [
    {
     "name": "stdout",
     "output_type": "stream",
     "text": [
      "Number of unique tokens: 28407\n"
     ]
    }
   ],
   "source": [
    "w2i = tokenizer.word_index\n",
    "vocab_size = len(w2i) + 1\n",
    "print(f'Number of unique tokens: {vocab_size}')\n"
   ]
  },
  {
   "cell_type": "markdown",
   "id": "cd4f1032",
   "metadata": {},
   "source": [
    "### 8. Create a weight matrix using GloVe embeddings [3 Marks]\n"
   ]
  },
  {
   "cell_type": "code",
   "execution_count": 31,
   "id": "00a814e8",
   "metadata": {},
   "outputs": [
    {
     "data": {
      "text/plain": [
       "400000"
      ]
     },
     "execution_count": 31,
     "metadata": {},
     "output_type": "execute_result"
    }
   ],
   "source": [
    "glove_file = 'glove.6B.zip'\n",
    "#Extract Glove embedding zip file\n",
    "from zipfile import ZipFile\n",
    "with ZipFile(glove_file, 'r') as z:\n",
    "    z.extractall()\n",
    "EMBEDDING_FILE = './glove.6B.200d.txt'\n",
    "\n",
    "embeddings = {}\n",
    "for o in open(EMBEDDING_FILE, encoding='utf-8'):\n",
    "    word = o.split(' ')[0]\n",
    "    embd = o.split(' ')[1:]\n",
    "    embd = np.asarray(embd, dtype = 'float32')\n",
    "    embeddings[word] = embd\n",
    "# Getting the minimum number of words\n",
    "num_words = min(max_features, vocab_size) + 1\n",
    "\n",
    "embedding_matrix = np.zeros((num_words, embedding_size))\n",
    "for word, i in tokenizer.word_index.items():\n",
    "    if i > max_features: continue\n",
    "    embedding_vector = embeddings.get(word)\n",
    "    if embedding_vector is not None:\n",
    "        embedding_matrix[i] = embedding_vector\n",
    "\n",
    "len(embeddings.values())\n",
    "\n"
   ]
  },
  {
   "cell_type": "markdown",
   "id": "fd98dff9",
   "metadata": {},
   "source": [
    "### 9. Define and compile a Bidirectional LSTM model. [3 Marks]"
   ]
  },
  {
   "cell_type": "code",
   "execution_count": 32,
   "id": "e81c34df",
   "metadata": {},
   "outputs": [
    {
     "name": "stdout",
     "output_type": "stream",
     "text": [
      "------------------------------------------------------------ \n",
      "Number of rows in training dataset: 21367\n",
      "Number of columns in training dataset: 39\n",
      "Number of unique words in training dataset: 9984\n",
      "------------------------------------------------------------ \n",
      "Number of rows in test dataset: 5342\n",
      "Number of columns in test dataset: 39\n",
      "Number of unique words in test dataset: 7764\n"
     ]
    }
   ],
   "source": [
    "x_train, x_test, y_train, y_test = train_test_split(X, y, test_size = 0.2, random_state = random_state, shuffle = True)\n",
    "\n",
    "print('---'*20, f'\\nNumber of rows in training dataset: {x_train.shape[0]}')\n",
    "print(f'Number of columns in training dataset: {x_train.shape[1]}')\n",
    "print(f'Number of unique words in training dataset: {len(np.unique(np.hstack(x_train)))}')\n",
    "\n",
    "print('---'*20, f'\\nNumber of rows in test dataset: {x_test.shape[0]}')\n",
    "print(f'Number of columns in test dataset: {x_test.shape[1]}')\n",
    "print(f'Number of unique words in test dataset: {len(np.unique(np.hstack(x_test)))}')\n"
   ]
  },
  {
   "cell_type": "code",
   "execution_count": 33,
   "id": "d929ca6b",
   "metadata": {},
   "outputs": [
    {
     "name": "stdout",
     "output_type": "stream",
     "text": [
      "Model: \"sequential_1\"\n",
      "_________________________________________________________________\n",
      "Layer (type)                 Output Shape              Param #   \n",
      "=================================================================\n",
      "embedding_1 (Embedding)      (None, 39, 200)           2000200   \n",
      "_________________________________________________________________\n",
      "bidirectional (Bidirectional (None, 39, 256)           336896    \n",
      "_________________________________________________________________\n",
      "global_max_pooling1d (Global (None, 256)               0         \n",
      "_________________________________________________________________\n",
      "dropout_1 (Dropout)          (None, 256)               0         \n",
      "_________________________________________________________________\n",
      "dense_1 (Dense)              (None, 128)               32896     \n",
      "_________________________________________________________________\n",
      "dropout_2 (Dropout)          (None, 128)               0         \n",
      "_________________________________________________________________\n",
      "dense_2 (Dense)              (None, 64)                8256      \n",
      "_________________________________________________________________\n",
      "dropout_3 (Dropout)          (None, 64)                0         \n",
      "_________________________________________________________________\n",
      "dense_3 (Dense)              (None, 1)                 65        \n",
      "=================================================================\n",
      "Total params: 2,378,313\n",
      "Trainable params: 378,113\n",
      "Non-trainable params: 2,000,200\n",
      "_________________________________________________________________\n",
      "None\n"
     ]
    }
   ],
   "source": [
    "model = Sequential()\n",
    "model.add(Embedding(num_words, embedding_size, embeddings_initializer = Constant(embedding_matrix), input_length = maxlen, trainable = False))\n",
    "model.add(Bidirectional(LSTM(128, return_sequences = True)))\n",
    "model.add(GlobalMaxPool1D())\n",
    "model.add(Dropout(0.5, input_shape = (256,)))\n",
    "model.add(Dense(128, activation = 'relu'))\n",
    "model.add(Dropout(0.5, input_shape = (128,)))\n",
    "model.add(Dense(64, activation = 'relu'))\n",
    "model.add(Dropout(0.5, input_shape = (64,)))\n",
    "model.add(Dense(1, activation = 'sigmoid'))\n",
    "\n",
    "model.compile(loss = 'binary_crossentropy', optimizer = 'adam', metrics = ['accuracy'])\n",
    "\n",
    "# Adding callbacks\n",
    "es = EarlyStopping(monitor = 'val_loss', mode = 'min', verbose = 1, patience = 10)  \n",
    "mc = ModelCheckpoint('sarcasm_detector.h5', monitor = 'val_loss', mode = 'min', save_best_only = True, verbose = 1)\n",
    "lr_r = ReduceLROnPlateau(monitor = 'val_loss', factor = 0.1, patience = 5),\n",
    "logdir = 'log'; tb = TensorBoard(logdir, histogram_freq = 1)\n",
    "callbacks = [es, mc, lr_r, tb]\n",
    "\n",
    "print(model.summary())\n",
    "\n"
   ]
  },
  {
   "cell_type": "markdown",
   "id": "244cf7ce",
   "metadata": {},
   "source": [
    "### 10. Fit the model and check the validation accuracy [3 Marks]"
   ]
  },
  {
   "cell_type": "code",
   "execution_count": 34,
   "id": "9d82011a",
   "metadata": {},
   "outputs": [
    {
     "name": "stdout",
     "output_type": "stream",
     "text": [
      "Epoch 1/3\n",
      "\n",
      "Epoch 00001: val_loss improved from inf to 0.45839, saving model to sarcasm_detector.h5\n",
      "171/171 - 27s - loss: 0.6064 - accuracy: 0.6548 - val_loss: 0.4584 - val_accuracy: 0.7911 - lr: 0.0010\n",
      "Epoch 2/3\n",
      "\n",
      "Epoch 00002: val_loss improved from 0.45839 to 0.38127, saving model to sarcasm_detector.h5\n",
      "171/171 - 26s - loss: 0.4533 - accuracy: 0.7964 - val_loss: 0.3813 - val_accuracy: 0.8315 - lr: 0.0010\n",
      "Epoch 3/3\n",
      "\n",
      "Epoch 00003: val_loss improved from 0.38127 to 0.35436, saving model to sarcasm_detector.h5\n",
      "171/171 - 27s - loss: 0.3771 - accuracy: 0.8385 - val_loss: 0.3544 - val_accuracy: 0.8451 - lr: 0.0010\n"
     ]
    }
   ],
   "source": [
    "batch_size = 100\n",
    "epochs = 3\n",
    "\n",
    "h = model.fit(x_train, y_train, epochs = epochs, validation_split = 0.2, batch_size = batch_size, verbose = 2, callbacks = callbacks)\n"
   ]
  },
  {
   "cell_type": "code",
   "execution_count": 35,
   "id": "c90ad89b",
   "metadata": {},
   "outputs": [
    {
     "data": {
      "image/png": "[encoded data removed]",
      "text/plain": [
       "<Figure size 1080x518.4 with 2 Axes>"
      ]
     },
     "metadata": {
      "needs_background": "light"
     },
     "output_type": "display_data"
    }
   ],
   "source": [
    "f, (ax1, ax2) = plt.subplots(1, 2, figsize = (15, 7.2))\n",
    "f.suptitle('Monitoring the performance of the model')\n",
    "\n",
    "ax1.plot(h.history['loss'], label = 'Train')\n",
    "ax1.plot(h.history['val_loss'], label = 'Test')\n",
    "ax1.set_title('Model Loss')\n",
    "ax1.legend(['Train', 'Test'])\n",
    "\n",
    "ax2.plot(h.history['accuracy'], label = 'Train')\n",
    "ax2.plot(h.history['val_accuracy'], label = 'Test')\n",
    "ax2.set_title('Model Accuracy')\n",
    "ax2.legend(['Train', 'Test'])\n",
    "\n",
    "plt.show()\n"
   ]
  },
  {
   "cell_type": "code",
   "execution_count": 36,
   "id": "bebfec6f",
   "metadata": {},
   "outputs": [
    {
     "name": "stdout",
     "output_type": "stream",
     "text": [
      "Overall Accuracy: 84.0\n"
     ]
    }
   ],
   "source": [
    "# Evaluate the model\n",
    "loss, accuracy = model.evaluate(x_test, y_test, verbose = 0)\n",
    "print('Overall Accuracy: {}'.format(round(accuracy * 100, 0)))\n"
   ]
  },
  {
   "cell_type": "code",
   "execution_count": 37,
   "id": "0e41c438",
   "metadata": {},
   "outputs": [
    {
     "name": "stdout",
     "output_type": "stream",
     "text": [
      "Classification Report:\n",
      "              precision    recall  f1-score   support\n",
      "\n",
      "           0       0.86      0.86      0.86      2987\n",
      "           1       0.83      0.82      0.82      2355\n",
      "\n",
      "    accuracy                           0.84      5342\n",
      "   macro avg       0.84      0.84      0.84      5342\n",
      "weighted avg       0.84      0.84      0.84      5342\n",
      "\n"
     ]
    }
   ],
   "source": [
    "y_pred = (model.predict(x_test) > 0.5).astype('int32')\n",
    "print(f'Classification Report:\\n{classification_report(y_pred, y_test)}')\n"
   ]
  },
  {
   "cell_type": "code",
   "execution_count": 38,
   "id": "2950c6c0",
   "metadata": {},
   "outputs": [
    {
     "name": "stdout",
     "output_type": "stream",
     "text": [
      "------------------------------------------------------------\n",
      "Confusion Matrix\n"
     ]
    },
    {
     "data": {
      "text/html": [
       "<div>\n",
       "<style scoped>\n",
       "    .dataframe tbody tr th:only-of-type {\n",
       "        vertical-align: middle;\n",
       "    }\n",
       "\n",
       "    .dataframe tbody tr th {\n",
       "        vertical-align: top;\n",
       "    }\n",
       "\n",
       "    .dataframe thead th {\n",
       "        text-align: right;\n",
       "    }\n",
       "</style>\n",
       "<table border=\"1\" class=\"dataframe\">\n",
       "  <thead>\n",
       "    <tr style=\"text-align: right;\">\n",
       "      <th></th>\n",
       "      <th>Non-sarcastic</th>\n",
       "      <th>Sarcastic</th>\n",
       "    </tr>\n",
       "  </thead>\n",
       "  <tbody>\n",
       "    <tr>\n",
       "      <th>Non-sarcastic</th>\n",
       "      <td>2577</td>\n",
       "      <td>419</td>\n",
       "    </tr>\n",
       "    <tr>\n",
       "      <th>Sarcastic</th>\n",
       "      <td>410</td>\n",
       "      <td>1936</td>\n",
       "    </tr>\n",
       "  </tbody>\n",
       "</table>\n",
       "</div>"
      ],
      "text/plain": [
       "               Non-sarcastic  Sarcastic\n",
       "Non-sarcastic           2577        419\n",
       "Sarcastic                410       1936"
      ]
     },
     "metadata": {},
     "output_type": "display_data"
    },
    {
     "name": "stdout",
     "output_type": "stream",
     "text": [
      "------------------------------------------------------------\n"
     ]
    },
    {
     "data": {
      "image/png": "[encoded data removed]",
      "text/plain": [
       "<Figure size 576x360 with 2 Axes>"
      ]
     },
     "metadata": {
      "needs_background": "light"
     },
     "output_type": "display_data"
    }
   ],
   "source": [
    "print('--'*30); print('Confusion Matrix')\n",
    "cm = confusion_matrix(y_test, y_pred)\n",
    "cm = pd.DataFrame(cm , index = ['Non-sarcastic', 'Sarcastic'] , columns = ['Non-sarcastic','Sarcastic'])\n",
    "display(cm); print('--'*30)\n",
    "\n",
    "plt.figure(figsize = (8, 5))\n",
    "_ = sns.heatmap(cm, cmap= 'Blues', linecolor = 'black' , linewidth = 1 , annot = True, \n",
    "            fmt = '' , xticklabels = ['Non-sarcastic', 'Sarcastic'], \n",
    "            yticklabels = ['Non-sarcastic', 'Sarcastic']).set_title('Confusion Matrix')\n"
   ]
  },
  {
   "cell_type": "code",
   "execution_count": null,
   "id": "58ff67ad",
   "metadata": {},
   "outputs": [],
   "source": []
  }
 ],
 "metadata": {
  "kernelspec": {
   "display_name": "Python 3 (ipykernel)",
   "language": "python",
   "name": "python3"
  },
  "language_info": {
   "codemirror_mode": {
    "name": "ipython",
    "version": 3
   },
   "file_extension": ".py",
   "mimetype": "text/x-python",
   "name": "python",
   "nbconvert_exporter": "python",
   "pygments_lexer": "ipython3",
   "version": "3.7.3"
  }
 },
 "nbformat": 4,
 "nbformat_minor": 5
}
